{
  "cells": [
    {
      "cell_type": "markdown",
      "metadata": {
        "id": "X6RGYRtyn9HV"
      },
      "source": [
        "# Geometric Deep Learning Exam: Predicting Persistence Images"
      ]
    },
    {
      "cell_type": "markdown",
      "metadata": {
        "id": "VScMivxqn5qF"
      },
      "source": [
        "# Step 0: Installation and Setup"
      ]
    },
    {
      "cell_type": "code",
      "execution_count": null,
      "metadata": {
        "cellView": "form",
        "colab": {
          "base_uri": "https://localhost:8080/"
        },
        "id": "ME83O7kZn8gP",
        "outputId": "865a8826-7305-41c4-cbfa-a1a88f4c3d79"
      },
      "outputs": [
        {
          "name": "stdout",
          "output_type": "stream",
          "text": [
            "  Installing build dependencies ... \u001b[?25l\u001b[?25hdone\n",
            "  Getting requirements to build wheel ... \u001b[?25l\u001b[?25hdone\n",
            "  Preparing metadata (pyproject.toml) ... \u001b[?25l\u001b[?25hdone\n"
          ]
        }
      ],
      "source": [
        "#@title [RUN] Install required libraries for Deep Learning\n",
        "!pip install -q torch==1.12.1+cu113 torchvision==0.13.1+cu113 torchaudio==0.12.1 --extra-index-url https://download.pytorch.org/whl/cu113\n",
        "!pip install -q networkx\n",
        "\n",
        "!pip install -q torch-scatter -f https://data.pyg.org/whl/torch-1.12.1+cu113.html\n",
        "!pip install -q torch-sparse -f https://data.pyg.org/whl/torch-1.12.1+cu113.html\n",
        "!pip install -q git+https://github.com/pyg-team/pytorch_geometric.git\n",
        "\n",
        "!pip install -q rdkit-pypi==2021.9.4\n",
        "!pip install -q py3Dmol==1.8.0"
      ]
    },
    {
      "cell_type": "code",
      "execution_count": null,
      "metadata": {
        "cellView": "form",
        "id": "9S-XNKIYxje0"
      },
      "outputs": [],
      "source": [
        "#@title [RUN] Install required libraries for Topological Data Analysis\n",
        "\n",
        "!pip install -q Cython\n",
        "!pip install -q ripser\n",
        "!pip install -q persim\n",
        "!pip install -q pytorch2tikz\n",
        "!pip install -q tikzplotlib"
      ]
    },
    {
      "cell_type": "code",
      "execution_count": null,
      "metadata": {
        "colab": {
          "base_uri": "https://localhost:8080/"
        },
        "id": "a83FslEXoWwg",
        "outputId": "ffd6fc37-b363-4b69-f499-b2489ee8ec9e"
      },
      "outputs": [
        {
          "name": "stdout",
          "output_type": "stream",
          "text": [
            "PyTorch version 1.12.1+cu113\n",
            "PyG version 2.4.0\n"
          ]
        }
      ],
      "source": [
        "#@title [RUN] Import python modules\n",
        "\n",
        "# Standard\n",
        "import os\n",
        "import time\n",
        "import random\n",
        "import numpy as np\n",
        "\n",
        "# Geometry\n",
        "from scipy.stats import ortho_group\n",
        "\n",
        "# Deep learning\n",
        "import torch\n",
        "import torch.nn as nn\n",
        "import torch.nn.functional as F\n",
        "from torch.nn import Linear, ReLU, BatchNorm1d, Module, Sequential\n",
        "\n",
        "import torch_geometric\n",
        "from torch_geometric.data import Dataset, Data\n",
        "from torch_geometric.data import Batch\n",
        "from torch_geometric.datasets import QM9, ModelNet, ShapeNet, GeometricShapes\n",
        "import torch_geometric.transforms as T\n",
        "from torch_geometric.utils import remove_self_loops, to_dense_adj, dense_to_sparse\n",
        "from torch_geometric.loader import DataLoader\n",
        "from torch_geometric.nn import MessagePassing, global_mean_pool\n",
        "from torch_scatter import scatter\n",
        "from torch.autograd import Variable\n",
        "\n",
        "# Visualisation\n",
        "import matplotlib.pyplot as plt\n",
        "import seaborn as sns\n",
        "import pandas as pd\n",
        "\n",
        "import tikzplotlib\n",
        "def tikzplotlib_fix_ncols(obj):\n",
        "    \"\"\"\n",
        "    workaround for matplotlib 3.6 renamed legend's _ncol to _ncols, which breaks tikzplotlib\n",
        "    \"\"\"\n",
        "    if hasattr(obj, \"_ncols\"):\n",
        "        obj._ncol = obj._ncols\n",
        "    for child in obj.get_children():\n",
        "        tikzplotlib_fix_ncols(child)\n",
        "        \n",
        "from google.colab import files\n",
        "from IPython.display import HTML\n",
        "\n",
        "# TDA \n",
        "from ripser import Rips\n",
        "from persim import PersistenceImager\n",
        "from persim.images_weights import persistence, linear_ramp\n",
        "\n",
        "from pytorch2tikz import Architecture\n",
        "\n",
        "print(\"PyTorch version {}\".format(torch.__version__))\n",
        "print(\"PyG version {}\".format(torch_geometric.__version__))"
      ]
    },
    {
      "cell_type": "code",
      "execution_count": null,
      "metadata": {
        "cellView": "form",
        "id": "Lgl7bLdLoXfH"
      },
      "outputs": [],
      "source": [
        "#@title [RUN] Set random seed for deterministic results\n",
        "\n",
        "def seed(seed=0):\n",
        "    random.seed(seed)\n",
        "    np.random.seed(seed)\n",
        "    torch.manual_seed(seed)\n",
        "    torch.cuda.manual_seed(seed)\n",
        "    torch.cuda.manual_seed_all(seed)\n",
        "    torch.backends.cudnn.deterministic = True\n",
        "    torch.backends.cudnn.benchmark = False\n",
        "\n",
        "seed(0)"
      ]
    },
    {
      "cell_type": "code",
      "execution_count": null,
      "metadata": {
        "colab": {
          "base_uri": "https://localhost:8080/"
        },
        "id": "NFTrav-bYO-5",
        "outputId": "235123d8-15eb-4ea1-9b30-e0074139e306"
      },
      "outputs": [
        {
          "name": "stdout",
          "output_type": "stream",
          "text": [
            "Mounted at /content/drive\n"
          ]
        }
      ],
      "source": [
        "from google.colab import drive\n",
        "drive.mount('/content/drive')"
      ]
    },
    {
      "cell_type": "markdown",
      "metadata": {
        "id": "hv2b2a6OCIsR"
      },
      "source": [
        "# Step 1: Loading and Pre-processing Datase"
      ]
    },
    {
      "cell_type": "markdown",
      "metadata": {
        "id": "PkJ2FwbBrTQ3"
      },
      "source": [
        "## Precomputing persistence images\n",
        "\n",
        "---\n",
        "\n"
      ]
    },
    {
      "cell_type": "code",
      "execution_count": null,
      "metadata": {
        "colab": {
          "base_uri": "https://localhost:8080/"
        },
        "id": "qmDKZnKJf55O",
        "outputId": "a203d7f6-63d8-4992-99d8-0049fec80f1c"
      },
      "outputs": [
        {
          "name": "stdout",
          "output_type": "stream",
          "text": [
            "Rips(maxdim=1, thresh=inf, coeff=2, do_cocycles=False, n_perm = None, verbose=True)\n"
          ]
        }
      ],
      "source": [
        "# TDA tools\n",
        "rips = Rips() # Rips complex for speed\n",
        "pimgr = PersistenceImager(pixel_size=0.03125, birth_range=(0.0, 1.0), pers_range=(0.0, 1.0)) # resolution 32x32 \n",
        "\n",
        "# Parameters to fine-tune for the dataset (no canonical choice)\n",
        "pimgr.kernel_params = {'sigma': 0.01}\n",
        "pimgr.weight = persistence\n",
        "pimgr.weight_params = {'n': 2.0}"
      ]
    },
    {
      "cell_type": "code",
      "execution_count": null,
      "metadata": {
        "id": "kq3mh1-at6XS"
      },
      "outputs": [],
      "source": [
        "class Select_Points(object):\n",
        "    def __init__(self, output_size):\n",
        "        assert isinstance(output_size, int)\n",
        "        self.output_size = output_size\n",
        "\n",
        "    def __call__(self, data):\n",
        "        data.pos = data.pos[:self.output_size]\n",
        "        return data\n",
        "\n",
        "class Normalisation(object):\n",
        "    def __call__(self, data):\n",
        "        mean = data.pos.mean(dim=0, keepdim=True)\n",
        "        std = data.pos.std(dim=0, keepdim=True)\n",
        "        data.pos = data.pos - mean\n",
        "        if 0 not in std:\n",
        "            data.pos = data.pos / std\n",
        "        return data"
      ]
    },
    {
      "cell_type": "markdown",
      "metadata": {
        "id": "s32p67JupdAd"
      },
      "source": [
        "## Loading dataset"
      ]
    },
    {
      "cell_type": "code",
      "execution_count": null,
      "metadata": {
        "colab": {
          "base_uri": "https://localhost:8080/"
        },
        "id": "lSL3eG3ZtdQD",
        "outputId": "e290bbf7-bb14-450a-a2c3-a223318a70ae"
      },
      "outputs": [
        {
          "name": "stderr",
          "output_type": "stream",
          "text": [
            "Downloading https://shapenet.cs.stanford.edu/media/shapenetcore_partanno_segmentation_benchmark_v0_normal.zip\n",
            "Extracting shapenet/shapenetcore_partanno_segmentation_benchmark_v0_normal.zip\n",
            "Processing...\n",
            "Done!\n"
          ]
        }
      ],
      "source": [
        "class MyShapeNet(Dataset):\n",
        "    def __init__(self, transform = None):\n",
        "        super(MyShapeNet, self).__init__()\n",
        "        \n",
        "        path = './shapenet'\n",
        "        dataset = ShapeNet(path, transform = transform)\n",
        "\n",
        "        self.data = [(torch.Tensor(dataset[i].pos), torch.Tensor(pimgr.transform(rips.fit_transform(dataset[i].pos)[1]).flatten())) for i in range(len(dataset))]\n",
        "        random.shuffle(self.data)\n",
        "\n",
        "    def len(self):\n",
        "        return len(self.data)\n",
        "\n",
        "    def get(self, index):\n",
        "        return self.data[index]\n",
        "\n",
        "# Create an instance of the dataset\n",
        "nb_points = 200 # number of points per point cloud\n",
        "\n",
        "preprocess = T.Compose([Select_Points(nb_points), Normalisation()]) # Select_Points Reduce number of points in each point cloud to reduce computations. Normalisation of the points\n",
        "dataset = MyShapeNet(transform = preprocess)"
      ]
    },
    {
      "cell_type": "code",
      "execution_count": null,
      "metadata": {
        "cellView": "form",
        "colab": {
          "base_uri": "https://localhost:8080/",
          "height": 282
        },
        "id": "rfU9crut2SnE",
        "outputId": "e7e1f4f8-b5e4-4baf-a504-4110e2de8d45"
      },
      "outputs": [
        {
          "data": {
            "image/png": "[encoded data removed]",
            "text/plain": [
              "<Figure size 640x480 with 2 Axes>"
            ]
          },
          "metadata": {},
          "output_type": "display_data"
        }
      ],
      "source": [
        "#@title [RUN] Visualisation\n",
        "\n",
        "# Pointcloud\n",
        "index = 143\n",
        "\n",
        "fig = plt.figure()\n",
        "ax = fig.add_subplot(121, projection=\"3d\")\n",
        "ax.scatter(dataset[index][0][:, 0], dataset[index][0][:, 1], dataset[index][0][:, 2])\n",
        "\n",
        "# Persistence image (ground truth to predict)\n",
        "ax = fig.add_subplot(122)\n",
        "pimgr.plot_image(dataset[index][1].reshape(pimgr.resolution), ax)\n",
        "plt.show()"
      ]
    },
    {
      "cell_type": "code",
      "execution_count": null,
      "metadata": {
        "id": "Re0s2jNYCwSq"
      },
      "outputs": [],
      "source": [
        "#@title [RUN] Visualisation"
      ]
    },
    {
      "cell_type": "code",
      "execution_count": null,
      "metadata": {
        "colab": {
          "base_uri": "https://localhost:8080/"
        },
        "id": "CkQIJzmZ4Iv4",
        "outputId": "85e38bee-f62c-4af1-9a10-7114509868fa"
      },
      "outputs": [
        {
          "name": "stdout",
          "output_type": "stream",
          "text": [
            "Total number of samples: 14007.\n",
            "Created dataset splits with 1000 training, 500 validation, 500 test samples.\n"
          ]
        }
      ],
      "source": [
        "print(f\"Total number of samples: {len(dataset)}.\")\n",
        "\n",
        "# Split datasets\n",
        "train_dataset = dataset[:1000]\n",
        "val_dataset = dataset[1000:1500]\n",
        "test_dataset = dataset[1500:2000]\n",
        "\n",
        "print(f\"Created dataset splits with {len(train_dataset)} training, {len(val_dataset)} validation, {len(test_dataset)} test samples.\")\n",
        "\n",
        "# Create dataloaders\n",
        "train_loader = DataLoader(train_dataset, shuffle=True)\n",
        "val_loader = DataLoader(val_dataset, shuffle=False)\n",
        "test_loader = DataLoader(test_dataset, shuffle=False)"
      ]
    },
    {
      "cell_type": "code",
      "execution_count": null,
      "metadata": {
        "id": "P2iIU-qZgwZk"
      },
      "outputs": [],
      "source": [
        "# For storing experimental results over the course of the practical\n",
        "RESULTS = {}\n",
        "DF_RESULTS = pd.DataFrame(columns=[\"Test MAE\", \"Val MAE\", \"Epoch\", \"Model\"])"
      ]
    },
    {
      "cell_type": "markdown",
      "metadata": {
        "id": "EaOCubFShWWt"
      },
      "source": [
        "## ML Helpers\n"
      ]
    },
    {
      "cell_type": "code",
      "execution_count": null,
      "metadata": {
        "cellView": "form",
        "id": "mG_cntzYhbZj"
      },
      "outputs": [],
      "source": [
        "#@title [RUN] Helper functions for managing experiments, training, and evaluating models.\n",
        "\n",
        "def train(model, train_loader, optimizer, device):\n",
        "    model.train()\n",
        "    loss_all = 0\n",
        "    for data in train_loader:\n",
        "        data_x = data[0].squeeze()\n",
        "        data_y = data[1].squeeze()\n",
        "        optimizer.zero_grad()\n",
        "        y_pred = model(data_x)\n",
        "        loss = F.mse_loss(y_pred, data_y)\n",
        "        loss.backward()\n",
        "        loss_all += loss.item()\n",
        "        optimizer.step()\n",
        "    return loss_all / len(train_loader.dataset)\n",
        "\n",
        "\n",
        "def eval(model, loader, device):\n",
        "    model.eval()\n",
        "    error = 0\n",
        "\n",
        "    for data in loader:\n",
        "        data_x = data[0].squeeze()\n",
        "        data_y = data[1].squeeze()\n",
        "        with torch.no_grad():\n",
        "            y_pred = model(data_x)\n",
        "            # Mean Absolute Error\n",
        "            error += F.mse_loss(y_pred, data_y).item()\n",
        "    return error / len(loader.dataset)\n",
        "\n",
        "\n",
        "def run_experiment(model, model_name, train_loader, val_loader, test_loader, n_epochs=100):\n",
        "    \n",
        "    print(f\"Running experiment for {model_name}, training on {len(train_loader.dataset)} samples for {n_epochs} epochs.\")\n",
        "    \n",
        "    device = torch.device('cuda' if torch.cuda.is_available() else 'cpu')\n",
        "\n",
        "    print(\"\\nModel architecture:\")\n",
        "    print(model)\n",
        "    total_param = 0\n",
        "    for param in model.parameters():\n",
        "        total_param += np.prod(list(param.data.size()))\n",
        "    print(f'Total parameters: {total_param}')\n",
        "    model = model.to(device)\n",
        "\n",
        "    # Adam optimizer with LR 1e-3\n",
        "    optimizer = torch.optim.Adam(model.parameters(), lr=0.001)\n",
        "\n",
        "    # LR scheduler which decays LR when validation metric doesn't improve\n",
        "    scheduler = torch.optim.lr_scheduler.ReduceLROnPlateau(\n",
        "        optimizer, mode='min', factor=0.9, patience=5, min_lr=0.00001)\n",
        "    \n",
        "    print(\"\\nStart training:\")\n",
        "    best_val_error = None\n",
        "    epoch_best_val_error = None\n",
        "    perf_per_epoch = [] # Track Test/Val MAE vs. epoch (for plotting)\n",
        "    t = time.time()\n",
        "    for epoch in range(1, n_epochs+1):\n",
        "        # Call LR scheduler at start of each epoch\n",
        "        lr = scheduler.optimizer.param_groups[0]['lr']\n",
        "\n",
        "        # Train model for one epoch, return avg. training loss\n",
        "        loss = train(model, train_loader, optimizer, device)\n",
        "        \n",
        "        # Evaluate model on validation set\n",
        "        val_error = eval(model, val_loader, device)\n",
        "        \n",
        "        if best_val_error is None or val_error <= best_val_error:\n",
        "            # Evaluate model on test set if validation metric improves\n",
        "            test_error = eval(model, test_loader, device)\n",
        "            best_val_error = val_error\n",
        "            epoch_best_val_error = epoch\n",
        "\n",
        "        elif epoch - epoch_best_val_error == 5:\n",
        "            print(f'Epoch: {epoch:03d}, LR: {lr:5f}, Loss: {loss:.7f}, ' f'Val MAE: {val_error:.7f}, Test MAE: {test_error:.7f}')\n",
        "            perf_per_epoch.append((test_error, val_error, epoch, model_name))\n",
        "            break\n",
        "\n",
        "        if epoch % 5 == 0:\n",
        "            # Print and track stats every 10 epochs\n",
        "            print(f'Epoch: {epoch:03d}, LR: {lr:5f}, Loss: {loss:.7f}, '\n",
        "                  f'Val MAE: {val_error:.7f}, Test MAE: {test_error:.7f}')\n",
        "\n",
        "        # print(f'Epoch: {epoch:03d}, LR: {lr:5f}, Loss: {loss:.7f}, ' f'Val MAE: {val_error:.7f}, Test MAE: {test_error:.7f}')\n",
        "        \n",
        "        scheduler.step(val_error)\n",
        "        perf_per_epoch.append((test_error, val_error, epoch, model_name))\n",
        "    \n",
        "    t = time.time() - t\n",
        "    train_time = t/60\n",
        "    print(f\"\\nDone! Training took {train_time:.2f} mins. Best validation MAE: {best_val_error:.7f}, corresponding test MAE: {test_error:.7f}.\")\n",
        "    \n",
        "    return best_val_error, test_error, train_time, perf_per_epoch"
      ]
    },
    {
      "cell_type": "markdown",
      "metadata": {
        "id": "-0Z4UuVaIxuU"
      },
      "source": [
        "# Step 2: Simple MLP"
      ]
    },
    {
      "cell_type": "code",
      "execution_count": null,
      "metadata": {
        "id": "AkJ4liB2KwdN"
      },
      "outputs": [],
      "source": [
        "class MLP(nn.Module):\n",
        "    def __init__(self, input_dim, hidden_dim, output_dim=1024, num_layers=2):\n",
        "        super(MLP, self).__init__()\n",
        "        \n",
        "        self.input_layer = nn.Linear(input_dim, hidden_dim)\n",
        "        self.hidden_layers = nn.ModuleList([nn.Linear(hidden_dim, hidden_dim) for _ in range(num_layers-2)])\n",
        "        self.output_layer = nn.Linear(hidden_dim, output_dim)\n",
        "        self.collapse = nn.MaxPool1d(nb_points)\n",
        "        self.activation = nn.ReLU()\n",
        "        \n",
        "    def forward(self, x):\n",
        "        x = self.activation(self.input_layer(x))\n",
        "        for layer in self.hidden_layers:\n",
        "            x = self.activation(layer(x))\n",
        "        x = self.output_layer(x)\n",
        "        x = x.transpose(0, 1).squeeze()\n",
        "        x = self.collapse(x).squeeze()\n",
        "        return x"
      ]
    },
    {
      "cell_type": "code",
      "execution_count": null,
      "metadata": {
        "colab": {
          "base_uri": "https://localhost:8080/"
        },
        "id": "E_I4Ql6Zh3Au",
        "outputId": "da45c707-f01e-41fe-decf-d748dc31c58f"
      },
      "outputs": [
        {
          "name": "stdout",
          "output_type": "stream",
          "text": [
            "Running experiment for MLP, training on 1000 samples for 100 epochs.\n",
            "\n",
            "Model architecture:\n",
            "MLP(\n",
            "  (input_layer): Linear(in_features=3, out_features=64, bias=True)\n",
            "  (hidden_layers): ModuleList(\n",
            "    (0): Linear(in_features=64, out_features=64, bias=True)\n",
            "  )\n",
            "  (output_layer): Linear(in_features=64, out_features=1024, bias=True)\n",
            "  (collapse): MaxPool1d(kernel_size=200, stride=200, padding=0, dilation=1, ceil_mode=False)\n",
            "  (activation): ReLU()\n",
            ")\n",
            "Total parameters: 70976\n",
            "\n",
            "Start training:\n",
            "Epoch: 005, LR: 0.001000, Loss: 0.0000044, Val MAE: 0.0000032, Test MAE: 0.0000030\n",
            "Epoch: 010, LR: 0.001000, Loss: 0.0000019, Val MAE: 0.0000020, Test MAE: 0.0000019\n",
            "Epoch: 015, LR: 0.001000, Loss: 0.0000019, Val MAE: 0.0000020, Test MAE: 0.0000018\n",
            "Epoch: 017, LR: 0.001000, Loss: 0.0000019, Val MAE: 0.0000025, Test MAE: 0.0000018\n",
            "\n",
            "Done! Training took 3.24 mins. Best validation MAE: 0.0000019, corresponding test MAE: 0.0000018.\n"
          ]
        },
        {
          "name": "stderr",
          "output_type": "stream",
          "text": [
            "<ipython-input-15-c7b7c1381fda>:13: FutureWarning: The frame.append method is deprecated and will be removed from pandas in a future version. Use pandas.concat instead.\n",
            "  DF_RESULTS = DF_RESULTS.append(df_temp, ignore_index=True)\n"
          ]
        }
      ],
      "source": [
        "model_mlp = MLP(input_dim=3, output_dim=1024, hidden_dim=64, num_layers=3)\n",
        "model_name_mlp = type(model_mlp).__name__\n",
        "best_val_error, test_error, train_time, perf_per_epoch = run_experiment(\n",
        "    model_mlp, \n",
        "    model_name_mlp, \n",
        "    train_loader,\n",
        "    val_loader, \n",
        "    test_loader,\n",
        "    n_epochs=100\n",
        ")\n",
        "RESULTS[model_name_mlp] = (best_val_error, test_error, train_time)\n",
        "df_temp = pd.DataFrame(perf_per_epoch, columns=[\"Test MAE\", \"Val MAE\", \"Epoch\", \"Model\"])\n",
        "DF_RESULTS = DF_RESULTS.append(df_temp, ignore_index=True)"
      ]
    },
    {
      "cell_type": "code",
      "execution_count": null,
      "metadata": {
        "colab": {
          "base_uri": "https://localhost:8080/",
          "height": 202
        },
        "id": "-fymzs6ZRoT9",
        "outputId": "0dd8d222-460a-449f-c7fb-375bdd5c8846"
      },
      "outputs": [
        {
          "data": {
            "image/png": "[encoded data removed]",
            "text/plain": [
              "<Figure size 640x480 with 3 Axes>"
            ]
          },
          "metadata": {},
          "output_type": "display_data"
        }
      ],
      "source": [
        "#@title [RUN] Visualisation\n",
        "\n",
        "# tikz output \n",
        "tikz = False\n",
        "\n",
        "fig = plt.figure()\n",
        "index = 143\n",
        "\n",
        "# Persistence image (ground truth to predict)\n",
        "\n",
        "pi_predicted = model_mlp(dataset[index][0]).detach().numpy().reshape(pimgr.resolution)\n",
        "pi_groundtruth = dataset[index][1].detach().numpy().reshape(pimgr.resolution)\n",
        "pi_predicted_0 = model_mlp(dataset[0][0]).detach().numpy().reshape(pimgr.resolution)\n",
        "\n",
        "if tikz:\n",
        "    ax = fig.add_subplot(311)\n",
        "    pimgr.plot_image(pi_groundtruth, ax)\n",
        "    ax = fig.add_subplot(312)\n",
        "    pimgr.plot_image(pi_predicted, ax)\n",
        "    ax = fig.add_subplot(313)\n",
        "    pimgr.plot_image(pi_predicted_0, ax)\n",
        "\n",
        "    tikzplotlib_fix_ncols(fig)\n",
        "    tikzplotlib.save('/content/drive/MyDrive/mlp_3.tex')\n",
        "else:\n",
        "    ax = fig.add_subplot(131)\n",
        "    pimgr.plot_image(pi_groundtruth, ax)\n",
        "    ax = fig.add_subplot(132)\n",
        "    pimgr.plot_image(pi_predicted, ax)\n",
        "    ax = fig.add_subplot(133)\n",
        "    pimgr.plot_image(pi_predicted_0, ax)\n",
        "    plt.show()"
      ]
    },
    {
      "cell_type": "markdown",
      "metadata": {
        "id": "PGLH2TUTKthf"
      },
      "source": [
        "# Step 3: Distance MLP"
      ]
    },
    {
      "cell_type": "code",
      "execution_count": null,
      "metadata": {
        "id": "ndppFfFXDQS0"
      },
      "outputs": [],
      "source": [
        "class DistanceLayer(nn.Module):\n",
        "    def __init__(self, emb_size):\n",
        "        super(DistanceLayer, self).__init__()\n",
        "        self.emb_size = emb_size\n",
        "\n",
        "    def forward(self, input):\n",
        "        distances = torch.cdist(input, input) \n",
        "        # distances, _ = torch.sort(distances, dim=0)\n",
        "\n",
        "        return distances.resize_(nb_points, self.emb_size)"
      ]
    },
    {
      "cell_type": "code",
      "execution_count": null,
      "metadata": {
        "id": "G9E9a2iGNQQv"
      },
      "outputs": [],
      "source": [
        "class PointInvariantModel(nn.Module):\n",
        "    def __init__(self, input_dim=nb_points, output_dim=1024, hidden_dim=64, num_layers=4):\n",
        "        super(PointInvariantModel, self).__init__()\n",
        "        \n",
        "        self.emb_layer = DistanceLayer(input_dim)\n",
        "        self.input_layer = nn.Linear(input_dim, hidden_dim)\n",
        "        self.hidden_layers = nn.ModuleList([nn.Linear(hidden_dim, hidden_dim) for _ in range(num_layers-2)])\n",
        "        self.output_layer = nn.Linear(hidden_dim, output_dim)\n",
        "        self.collapse = nn.MaxPool1d(nb_points)\n",
        "        self.activation = nn.ReLU()\n",
        "\n",
        "    def forward(self, x):\n",
        "        x = self.activation(self.emb_layer(x))\n",
        "        x = self.activation(self.input_layer(x))\n",
        "        for layer in self.hidden_layers:\n",
        "            x = self.activation(layer(x))\n",
        "        x = self.output_layer(x)\n",
        "        x = x.transpose(0, 1).squeeze()\n",
        "        x = self.collapse(x).squeeze()\n",
        "        return x"
      ]
    },
    {
      "cell_type": "code",
      "execution_count": null,
      "metadata": {
        "colab": {
          "base_uri": "https://localhost:8080/"
        },
        "id": "AmnEXF2GLvYr",
        "outputId": "7630c492-08ca-4f24-ee53-b2df29664540"
      },
      "outputs": [
        {
          "name": "stdout",
          "output_type": "stream",
          "text": [
            "Running experiment for PointInvariantModel, training on 1000 samples for 100 epochs.\n",
            "\n",
            "Model architecture:\n",
            "PointInvariantModel(\n",
            "  (emb_layer): DistanceLayer()\n",
            "  (input_layer): Linear(in_features=200, out_features=64, bias=True)\n",
            "  (hidden_layers): ModuleList(\n",
            "    (0): Linear(in_features=64, out_features=64, bias=True)\n",
            "  )\n",
            "  (output_layer): Linear(in_features=64, out_features=1024, bias=True)\n",
            "  (collapse): MaxPool1d(kernel_size=200, stride=200, padding=0, dilation=1, ceil_mode=False)\n",
            "  (activation): ReLU()\n",
            ")\n",
            "Total parameters: 83584\n",
            "\n",
            "Start training:\n",
            "Epoch: 005, LR: 0.001000, Loss: 0.0000021, Val MAE: 0.0000026, Test MAE: 0.0000025\n",
            "Epoch: 008, LR: 0.001000, Loss: 0.0000021, Val MAE: 0.0000030, Test MAE: 0.0000025\n",
            "\n",
            "Done! Training took 1.78 mins. Best validation MAE: 0.0000022, corresponding test MAE: 0.0000025.\n"
          ]
        },
        {
          "name": "stderr",
          "output_type": "stream",
          "text": [
            "<ipython-input-19-6e832ff8c397>:13: FutureWarning: The frame.append method is deprecated and will be removed from pandas in a future version. Use pandas.concat instead.\n",
            "  DF_RESULTS = DF_RESULTS.append(df_temp, ignore_index=True)\n"
          ]
        }
      ],
      "source": [
        "model_pim = PointInvariantModel(input_dim=nb_points, output_dim=1024, hidden_dim=64, num_layers=3)\n",
        "model_name_pim = type(model_pim).__name__\n",
        "best_val_error, test_error, train_time, perf_per_epoch = run_experiment(\n",
        "    model_pim, \n",
        "    model_name_pim, \n",
        "    train_loader,\n",
        "    val_loader, \n",
        "    test_loader,\n",
        "    n_epochs=100\n",
        ")\n",
        "RESULTS[model_name_pim] = (best_val_error, test_error, train_time)\n",
        "df_temp = pd.DataFrame(perf_per_epoch, columns=[\"Test MAE\", \"Val MAE\", \"Epoch\", \"Model\"])\n",
        "DF_RESULTS = DF_RESULTS.append(df_temp, ignore_index=True)"
      ]
    },
    {
      "cell_type": "code",
      "execution_count": null,
      "metadata": {
        "colab": {
          "base_uri": "https://localhost:8080/",
          "height": 284
        },
        "id": "jJ03zaKB5vxO",
        "outputId": "58a46211-93ea-4acd-dc25-c8b7f8bab0f1"
      },
      "outputs": [
        {
          "data": {
            "image/png": "[encoded data removed]",
            "text/plain": [
              "<Figure size 1000x1000 with 3 Axes>"
            ]
          },
          "metadata": {},
          "output_type": "display_data"
        }
      ],
      "source": [
        "#@title [RUN] Visualisation\n",
        "\n",
        "tikz = False\n",
        "fig = plt.figure(figsize = (10, 10))\n",
        "index = 143\n",
        "\n",
        "# Persistence image (ground truth to predict)\n",
        "\n",
        "pi_predicted = model_pim(dataset[index][0]).detach().numpy().reshape(pimgr.resolution)\n",
        "pi_groundtruth = dataset[index][1].detach().numpy().reshape(pimgr.resolution)\n",
        "pi_predicted_0 = model_pim(dataset[0][0]).detach().numpy().reshape(pimgr.resolution)\n",
        "\n",
        "if tikz:\n",
        "    ax = fig.add_subplot(311)\n",
        "    pimgr.plot_image(pi_groundtruth, ax)\n",
        "    ax = fig.add_subplot(312)\n",
        "    pimgr.plot_image(pi_predicted, ax)\n",
        "    ax = fig.add_subplot(313)\n",
        "    pimgr.plot_image(pi_predicted_0, ax)\n",
        "\n",
        "    tikzplotlib_fix_ncols(fig)\n",
        "    tikzplotlib.save('/content/drive/MyDrive/pim_3.tex')\n",
        "else:\n",
        "    ax = fig.add_subplot(131)\n",
        "    pimgr.plot_image(pi_groundtruth, ax)\n",
        "    ax = fig.add_subplot(132)\n",
        "    pimgr.plot_image(pi_predicted, ax)\n",
        "    ax = fig.add_subplot(133)\n",
        "    pimgr.plot_image(pi_predicted_0, ax)\n",
        "    plt.show()"
      ]
    },
    {
      "cell_type": "code",
      "execution_count": null,
      "metadata": {
        "colab": {
          "base_uri": "https://localhost:8080/",
          "height": 449
        },
        "id": "VESmyNpHn-aN",
        "outputId": "b855af89-6720-4488-fee0-83b432e0ad1f"
      },
      "outputs": [
        {
          "data": {
            "image/png": "[encoded data removed]",
            "text/plain": [
              "<Figure size 640x480 with 1 Axes>"
            ]
          },
          "metadata": {},
          "output_type": "display_data"
        }
      ],
      "source": [
        "#@title [RUN] Visualisation\n",
        "tikz = False\n",
        "p = sns.lineplot(x=\"Epoch\", y=\"Val MAE\", hue=\"Model\", data=DF_RESULTS)\n",
        "plt.yscale('log')\n",
        "if tikz:\n",
        "    tikzplotlib_fix_ncols(fig)\n",
        "    tikzplotlib.save('/content/drive/MyDrive/graph_mlp_pim.tex')\n",
        "else:\n",
        "    plt.show()"
      ]
    },
    {
      "cell_type": "markdown",
      "metadata": {
        "id": "7QOPhffTFRqk"
      },
      "source": [
        "# Step 4: Simple MLP With convolution"
      ]
    },
    {
      "cell_type": "code",
      "execution_count": null,
      "metadata": {
        "id": "EsmbTaRfFQrD"
      },
      "outputs": [],
      "source": [
        "class ConvMLP(nn.Module):\n",
        "    def __init__(self, output_dim=1024):\n",
        "        super(ConvMLP, self).__init__()\n",
        "        \n",
        "        self.conv1 = nn.Conv1d(3, 64, 1)\n",
        "        self.conv2 = nn.Conv1d(64, 128, 1)\n",
        "        # self.conv3 = nn.Conv1d(128, output_dim, 1)\n",
        "        self.conv3 = nn.Linear(128, output_dim)\n",
        "\n",
        "        self.bn1 = nn.BatchNorm1d(64)\n",
        "        self.bn2 = nn.BatchNorm1d(128)\n",
        "        self.bn3 = nn.BatchNorm1d(output_dim)\n",
        "\n",
        "        self.collapse = nn.MaxPool1d(nb_points)\n",
        "        self.activation = nn.ReLU()\n",
        "        \n",
        "    def forward(self, x):\n",
        "        x = x.unsqueeze(2)\n",
        "\n",
        "        x = self.activation(self.bn1(self.conv1(x)))\n",
        "        x = self.activation(self.bn2(self.conv2(x))).squeeze()\n",
        "        x = self.activation(self.bn3(self.conv3(x)))\n",
        "\n",
        "        x = x.transpose(0, 1).squeeze()\n",
        "        x = self.collapse(x).squeeze()\n",
        "        return x"
      ]
    },
    {
      "cell_type": "code",
      "execution_count": null,
      "metadata": {
        "colab": {
          "base_uri": "https://localhost:8080/"
        },
        "id": "a6lzCrsgFRHi",
        "outputId": "6c13a7b9-09c7-4c8c-b5d1-b88abaa77f51"
      },
      "outputs": [
        {
          "name": "stdout",
          "output_type": "stream",
          "text": [
            "Running experiment for ConvMLP, training on 1000 samples for 20 epochs.\n",
            "\n",
            "Model architecture:\n",
            "ConvMLP(\n",
            "  (conv1): Conv1d(3, 64, kernel_size=(1,), stride=(1,))\n",
            "  (conv2): Conv1d(64, 128, kernel_size=(1,), stride=(1,))\n",
            "  (conv3): Linear(in_features=128, out_features=1024, bias=True)\n",
            "  (bn1): BatchNorm1d(64, eps=1e-05, momentum=0.1, affine=True, track_running_stats=True)\n",
            "  (bn2): BatchNorm1d(128, eps=1e-05, momentum=0.1, affine=True, track_running_stats=True)\n",
            "  (bn3): BatchNorm1d(1024, eps=1e-05, momentum=0.1, affine=True, track_running_stats=True)\n",
            "  (collapse): MaxPool1d(kernel_size=200, stride=200, padding=0, dilation=1, ceil_mode=False)\n",
            "  (activation): ReLU()\n",
            ")\n",
            "Total parameters: 143104\n",
            "\n",
            "Start training:\n",
            "Epoch: 005, LR: 0.001000, Loss: 0.0000366, Val MAE: 0.0000024, Test MAE: 0.0000022\n",
            "Epoch: 010, LR: 0.001000, Loss: 0.0000039, Val MAE: 0.0000024, Test MAE: 0.0000022\n",
            "Epoch: 015, LR: 0.000900, Loss: 0.0000022, Val MAE: 0.0000024, Test MAE: 0.0000022\n",
            "Epoch: 020, LR: 0.000810, Loss: 0.0000022, Val MAE: 0.0000024, Test MAE: 0.0000022\n",
            "\n",
            "Done! Training took 7.57 mins. Best validation MAE: 0.0000024, corresponding test MAE: 0.0000022.\n"
          ]
        },
        {
          "name": "stderr",
          "output_type": "stream",
          "text": [
            "<ipython-input-23-0c91720e3c6f>:13: FutureWarning: The frame.append method is deprecated and will be removed from pandas in a future version. Use pandas.concat instead.\n",
            "  DF_RESULTS = DF_RESULTS.append(df_temp, ignore_index=True)\n"
          ]
        }
      ],
      "source": [
        "model_conv_mlp = ConvMLP()\n",
        "model_name_conv_mlp = type(model_conv_mlp).__name__\n",
        "best_val_error, test_error, train_time, perf_per_epoch = run_experiment(\n",
        "    model_conv_mlp, \n",
        "    model_name_conv_mlp, \n",
        "    train_loader,\n",
        "    val_loader, \n",
        "    test_loader,\n",
        "    n_epochs=20\n",
        ")\n",
        "RESULTS[model_name_conv_mlp] = (best_val_error, test_error, train_time)\n",
        "df_temp = pd.DataFrame(perf_per_epoch, columns=[\"Test MAE\", \"Val MAE\", \"Epoch\", \"Model\"])\n",
        "DF_RESULTS = DF_RESULTS.append(df_temp, ignore_index=True)"
      ]
    },
    {
      "cell_type": "code",
      "execution_count": null,
      "metadata": {
        "colab": {
          "base_uri": "https://localhost:8080/",
          "height": 284
        },
        "id": "Mkmh3Qa9Ztkz",
        "outputId": "193c3839-c26b-4bba-db45-2dc596d2719e"
      },
      "outputs": [
        {
          "data": {
            "image/png": "[encoded data removed]",
            "text/plain": [
              "<Figure size 1000x1000 with 3 Axes>"
            ]
          },
          "metadata": {},
          "output_type": "display_data"
        }
      ],
      "source": [
        "#@title [RUN] Visualisation\n",
        "\n",
        "tikz = False\n",
        "fig = plt.figure(figsize=(10, 10))\n",
        "index = 143\n",
        "\n",
        "# Persistence image (ground truth to predict)\n",
        "\n",
        "pi_predicted = model_conv_mlp(dataset[index][0]).detach().numpy().reshape(pimgr.resolution)\n",
        "pi_groundtruth = dataset[index][1].detach().numpy().reshape(pimgr.resolution)\n",
        "pi_predicted_0 = model_conv_mlp(dataset[0][0]).detach().numpy().reshape(pimgr.resolution)\n",
        "\n",
        "if tikz:\n",
        "    ax = fig.add_subplot(311)\n",
        "    pimgr.plot_image(pi_groundtruth, ax)\n",
        "    ax = fig.add_subplot(312)\n",
        "    pimgr.plot_image(pi_predicted, ax)\n",
        "    ax = fig.add_subplot(313)\n",
        "    pimgr.plot_image(pi_predicted_0, ax)\n",
        "\n",
        "    tikzplotlib_fix_ncols(fig)\n",
        "    tikzplotlib.save('/content/drive/MyDrive/conv_mlp_3.tex')\n",
        "else:\n",
        "    ax = fig.add_subplot(131)\n",
        "    pimgr.plot_image(pi_groundtruth, ax)\n",
        "    ax = fig.add_subplot(132)\n",
        "    pimgr.plot_image(pi_predicted, ax)\n",
        "    ax = fig.add_subplot(133)\n",
        "    pimgr.plot_image(pi_predicted_0, ax)\n",
        "    plt.show()"
      ]
    },
    {
      "cell_type": "markdown",
      "metadata": {
        "id": "Uf5JtAU_FW5G"
      },
      "source": [
        "# Step 5: Invariant MLP with convolution"
      ]
    },
    {
      "cell_type": "code",
      "execution_count": null,
      "metadata": {
        "id": "kEGlkqsDFa3O"
      },
      "outputs": [],
      "source": [
        "class Conv_PointInvariantModel(nn.Module):\n",
        "    def __init__(self, input_dim=64, output_dim=1024):\n",
        "        super(Conv_PointInvariantModel, self).__init__()\n",
        "        \n",
        "        self.emb_layer = DistanceLayer(input_dim)\n",
        "        self.conv1 = nn.Conv1d(input_dim, 128, 1)\n",
        "        self.conv2 = nn.Conv1d(128, output_dim, 1)\n",
        "\n",
        "        self.bn1 = nn.BatchNorm1d(128)\n",
        "        self.bn2 = nn.BatchNorm1d(output_dim)\n",
        "\n",
        "        self.collapse = nn.MaxPool1d(nb_points)\n",
        "        self.activation = nn.ReLU()\n",
        "\n",
        "    def forward(self, x):\n",
        "        x = self.activation(self.emb_layer(x))\n",
        "        x = x.unsqueeze(2)\n",
        "        x = self.activation(self.bn1(self.conv1(x)))\n",
        "        x = self.activation(self.bn2(self.conv2(x)))\n",
        "        x = x.transpose(0, 1)\n",
        "        x = self.collapse(x.squeeze()).squeeze()\n",
        "        return x"
      ]
    },
    {
      "cell_type": "code",
      "execution_count": null,
      "metadata": {
        "colab": {
          "base_uri": "https://localhost:8080/"
        },
        "id": "yLXkl7BeFbx9",
        "outputId": "38d41a9a-6f7a-49a9-e9cf-c58dbbe0b93a"
      },
      "outputs": [
        {
          "name": "stdout",
          "output_type": "stream",
          "text": [
            "Running experiment for Conv_PointInvariantModel, training on 1000 samples for 20 epochs.\n",
            "\n",
            "Model architecture:\n",
            "Conv_PointInvariantModel(\n",
            "  (emb_layer): DistanceLayer()\n",
            "  (conv1): Conv1d(64, 128, kernel_size=(1,), stride=(1,))\n",
            "  (conv2): Conv1d(128, 1024, kernel_size=(1,), stride=(1,))\n",
            "  (bn1): BatchNorm1d(128, eps=1e-05, momentum=0.1, affine=True, track_running_stats=True)\n",
            "  (bn2): BatchNorm1d(1024, eps=1e-05, momentum=0.1, affine=True, track_running_stats=True)\n",
            "  (collapse): MaxPool1d(kernel_size=200, stride=200, padding=0, dilation=1, ceil_mode=False)\n",
            "  (activation): ReLU()\n",
            ")\n",
            "Total parameters: 142720\n",
            "\n",
            "Start training:\n",
            "Epoch: 005, LR: 0.001000, Loss: 0.0000453, Val MAE: 0.0000024, Test MAE: 0.0000022\n",
            "Epoch: 010, LR: 0.000900, Loss: 0.0000108, Val MAE: 0.0000024, Test MAE: 0.0000022\n",
            "Epoch: 015, LR: 0.000900, Loss: 0.0000021, Val MAE: 0.0000024, Test MAE: 0.0000022\n",
            "Epoch: 020, LR: 0.000810, Loss: 0.0000156, Val MAE: 0.0000024, Test MAE: 0.0000022\n",
            "\n",
            "Done! Training took 6.63 mins. Best validation MAE: 0.0000024, corresponding test MAE: 0.0000022.\n"
          ]
        },
        {
          "name": "stderr",
          "output_type": "stream",
          "text": [
            "<ipython-input-26-c16091101df6>:13: FutureWarning: The frame.append method is deprecated and will be removed from pandas in a future version. Use pandas.concat instead.\n",
            "  DF_RESULTS = DF_RESULTS.append(df_temp, ignore_index=True)\n"
          ]
        }
      ],
      "source": [
        "model_conv_pim = Conv_PointInvariantModel()\n",
        "model_name_conv_pim = type(model_conv_pim).__name__\n",
        "best_val_error, test_error, train_time, perf_per_epoch = run_experiment(\n",
        "    model_conv_pim, \n",
        "    model_name_conv_pim, \n",
        "    train_loader,\n",
        "    val_loader, \n",
        "    test_loader,\n",
        "    n_epochs=20\n",
        ")\n",
        "RESULTS[model_name_conv_pim] = (best_val_error, test_error, train_time)\n",
        "df_temp = pd.DataFrame(perf_per_epoch, columns=[\"Test MAE\", \"Val MAE\", \"Epoch\", \"Model\"])\n",
        "DF_RESULTS = DF_RESULTS.append(df_temp, ignore_index=True)"
      ]
    },
    {
      "cell_type": "code",
      "execution_count": null,
      "metadata": {
        "colab": {
          "base_uri": "https://localhost:8080/",
          "height": 284
        },
        "id": "Km9Dj0-6aOXD",
        "outputId": "39ce4eb9-51b5-4faf-8228-f4844c9acedd"
      },
      "outputs": [
        {
          "data": {
            "image/png": "[encoded data removed]",
            "text/plain": [
              "<Figure size 1000x1000 with 3 Axes>"
            ]
          },
          "metadata": {},
          "output_type": "display_data"
        }
      ],
      "source": [
        "#@title [RUN] Visualisation\n",
        "\n",
        "tikz = False\n",
        "fig = plt.figure(figsize=(10, 10))\n",
        "index = 143\n",
        "\n",
        "# Persistence image (ground truth to predict)\n",
        "\n",
        "pi_predicted = model_conv_pim(dataset[index][0]).detach().numpy().reshape(pimgr.resolution)\n",
        "pi_groundtruth = dataset[index][1].detach().numpy().reshape(pimgr.resolution)\n",
        "pi_predicted_0 = model_conv_pim(dataset[0][0]).detach().numpy().reshape(pimgr.resolution)\n",
        "\n",
        "if tikz:\n",
        "    ax = fig.add_subplot(311)\n",
        "    pimgr.plot_image(pi_groundtruth, ax)\n",
        "    ax = fig.add_subplot(312)\n",
        "    pimgr.plot_image(pi_predicted, ax)\n",
        "    ax = fig.add_subplot(313)\n",
        "    pimgr.plot_image(pi_predicted_0, ax)\n",
        "\n",
        "    tikzplotlib_fix_ncols(fig)\n",
        "    tikzplotlib.save('/content/drive/MyDrive/conv_pim.tex')\n",
        "else:\n",
        "    ax = fig.add_subplot(131)\n",
        "    pimgr.plot_image(pi_groundtruth, ax)\n",
        "    ax = fig.add_subplot(132)\n",
        "    pimgr.plot_image(pi_predicted, ax)\n",
        "    ax = fig.add_subplot(133)\n",
        "    pimgr.plot_image(pi_predicted_0, ax)\n",
        "    plt.show()"
      ]
    },
    {
      "cell_type": "markdown",
      "metadata": {
        "id": "1hzc5iGpQrYi"
      },
      "source": [
        "# Step 6: PointNet"
      ]
    },
    {
      "cell_type": "code",
      "execution_count": null,
      "metadata": {
        "id": "z2nmxlYbQ9X6"
      },
      "outputs": [],
      "source": [
        "# coded inspired from https://github.com/fxia22/pointnet.pytorch/blob/master/pointnet/model.py\n",
        "\n",
        "class STN3d(nn.Module):\n",
        "    def __init__(self):\n",
        "        super(STN3d, self).__init__()\n",
        "        self.conv1 = torch.nn.Conv1d(3, 64, 1)\n",
        "        self.conv2 = torch.nn.Conv1d(64, 128, 1)\n",
        "        self.conv3 = torch.nn.Conv1d(128, 1024, 1)\n",
        "        self.fc1 = nn.Linear(1024, 512)\n",
        "        self.fc2 = nn.Linear(512, 256)\n",
        "        self.fc3 = nn.Linear(256, 9)\n",
        "        self.relu = nn.ReLU()\n",
        "\n",
        "        self.bn1 = nn.BatchNorm1d(64)\n",
        "        self.bn2 = nn.BatchNorm1d(128)\n",
        "        self.bn3 = nn.BatchNorm1d(1024)\n",
        "        self.bn4 = nn.BatchNorm1d(512)\n",
        "        self.bn5 = nn.BatchNorm1d(256)\n",
        "\n",
        "\n",
        "    def forward(self, x):\n",
        "        x = x.unsqueeze(2)\n",
        "        x = self.relu(self.bn1(self.conv1(x)))\n",
        "        x = self.relu(self.bn2(self.conv2(x)))\n",
        "        x = self.relu(self.bn3(self.conv3(x)))\n",
        "        x = torch.max(x, 2, keepdim=True)[0]\n",
        "        x = x.view(-1, 1024)\n",
        "\n",
        "        x = self.relu(self.bn4(self.fc1(x)))\n",
        "        x = self.relu(self.bn5(self.fc2(x)))\n",
        "        x = self.fc3(x)\n",
        "\n",
        "        iden = Variable(torch.from_numpy(np.array([1,0,0,0,1,0,0,0,1]).astype(np.float32))).view(1,9)\n",
        "        if x.is_cuda:\n",
        "            iden = iden.cuda()\n",
        "        x = x + iden\n",
        "        x = x.view(-1, 3, 3)\n",
        "        return x"
      ]
    },
    {
      "cell_type": "code",
      "execution_count": null,
      "metadata": {
        "id": "i9OMTM-Zd5VQ"
      },
      "outputs": [],
      "source": [
        "class PointNetfeat(nn.Module):\n",
        "    def __init__(self, global_feat = True, feature_transform = False):\n",
        "        super(PointNetfeat, self).__init__()\n",
        "        self.stn = STN3d()\n",
        "        self.conv1 = torch.nn.Conv1d(3, 64, 1)\n",
        "        self.conv2 = torch.nn.Conv1d(64, 128, 1)\n",
        "        self.conv3 = torch.nn.Conv1d(128, 1024, 1)\n",
        "        self.bn1 = nn.BatchNorm1d(64)\n",
        "        self.bn2 = nn.BatchNorm1d(128)\n",
        "        self.bn3 = nn.BatchNorm1d(1024)\n",
        "        self.global_feat = global_feat\n",
        "        self.feature_transform = feature_transform\n",
        "\n",
        "\n",
        "    def forward(self, x):\n",
        "        trans = self.stn(x)\n",
        "        x = x.unsqueeze(2)\n",
        "        x = x.transpose(2, 1)\n",
        "        x = torch.bmm(x, trans)\n",
        "        x = x.transpose(2, 1)\n",
        "        x = F.relu(self.bn1(self.conv1(x)))\n",
        "\n",
        "        trans_feat = None\n",
        "\n",
        "        pointfeat = x\n",
        "        x = F.relu(self.bn2(self.conv2(x)))\n",
        "        x = self.bn3(self.conv3(x))\n",
        "        x = torch.max(x, 0, keepdim=True)[0]\n",
        "        x = x.view(-1, 1024)\n",
        "        return x.squeeze()\n"
      ]
    },
    {
      "cell_type": "code",
      "execution_count": null,
      "metadata": {
        "colab": {
          "base_uri": "https://localhost:8080/"
        },
        "id": "XORIgLrWjlOo",
        "outputId": "2f68d852-7771-4260-db2c-3db74e8a54bf"
      },
      "outputs": [
        {
          "name": "stdout",
          "output_type": "stream",
          "text": [
            "Running experiment for PointNetfeat, training on 1000 samples for 100 epochs.\n",
            "\n",
            "Model architecture:\n",
            "PointNetfeat(\n",
            "  (stn): STN3d(\n",
            "    (conv1): Conv1d(3, 64, kernel_size=(1,), stride=(1,))\n",
            "    (conv2): Conv1d(64, 128, kernel_size=(1,), stride=(1,))\n",
            "    (conv3): Conv1d(128, 1024, kernel_size=(1,), stride=(1,))\n",
            "    (fc1): Linear(in_features=1024, out_features=512, bias=True)\n",
            "    (fc2): Linear(in_features=512, out_features=256, bias=True)\n",
            "    (fc3): Linear(in_features=256, out_features=9, bias=True)\n",
            "    (relu): ReLU()\n",
            "    (bn1): BatchNorm1d(64, eps=1e-05, momentum=0.1, affine=True, track_running_stats=True)\n",
            "    (bn2): BatchNorm1d(128, eps=1e-05, momentum=0.1, affine=True, track_running_stats=True)\n",
            "    (bn3): BatchNorm1d(1024, eps=1e-05, momentum=0.1, affine=True, track_running_stats=True)\n",
            "    (bn4): BatchNorm1d(512, eps=1e-05, momentum=0.1, affine=True, track_running_stats=True)\n",
            "    (bn5): BatchNorm1d(256, eps=1e-05, momentum=0.1, affine=True, track_running_stats=True)\n",
            "  )\n",
            "  (conv1): Conv1d(3, 64, kernel_size=(1,), stride=(1,))\n",
            "  (conv2): Conv1d(64, 128, kernel_size=(1,), stride=(1,))\n",
            "  (conv3): Conv1d(128, 1024, kernel_size=(1,), stride=(1,))\n",
            "  (bn1): BatchNorm1d(64, eps=1e-05, momentum=0.1, affine=True, track_running_stats=True)\n",
            "  (bn2): BatchNorm1d(128, eps=1e-05, momentum=0.1, affine=True, track_running_stats=True)\n",
            "  (bn3): BatchNorm1d(1024, eps=1e-05, momentum=0.1, affine=True, track_running_stats=True)\n",
            ")\n",
            "Total parameters: 946185\n",
            "\n",
            "Start training:\n",
            "Epoch: 005, LR: 0.001000, Loss: 0.0006832, Val MAE: 0.0000150, Test MAE: 0.0000151\n",
            "Epoch: 010, LR: 0.001000, Loss: 0.0002496, Val MAE: 0.0000164, Test MAE: 0.0000091\n",
            "Epoch: 015, LR: 0.001000, Loss: 0.0000367, Val MAE: 0.0000089, Test MAE: 0.0000081\n",
            "Epoch: 016, LR: 0.001000, Loss: 0.0000168, Val MAE: 0.0000087, Test MAE: 0.0000081\n",
            "\n",
            "Done! Training took 25.57 mins. Best validation MAE: 0.0000084, corresponding test MAE: 0.0000081.\n"
          ]
        },
        {
          "name": "stderr",
          "output_type": "stream",
          "text": [
            "<ipython-input-30-6acb68051bb7>:13: FutureWarning: The frame.append method is deprecated and will be removed from pandas in a future version. Use pandas.concat instead.\n",
            "  DF_RESULTS = DF_RESULTS.append(df_temp, ignore_index=True)\n"
          ]
        }
      ],
      "source": [
        "model_pointnet = PointNetfeat()\n",
        "model_name_pointnet = type(model_pointnet).__name__\n",
        "best_val_error, test_error, train_time, perf_per_epoch = run_experiment(\n",
        "    model_pointnet, \n",
        "    model_name_pointnet, \n",
        "    train_loader,\n",
        "    val_loader, \n",
        "    test_loader,\n",
        "    n_epochs=100\n",
        ")\n",
        "RESULTS[model_name_pointnet] = (best_val_error, test_error, train_time)\n",
        "df_temp = pd.DataFrame(perf_per_epoch, columns=[\"Test MAE\", \"Val MAE\", \"Epoch\", \"Model\"])\n",
        "DF_RESULTS = DF_RESULTS.append(df_temp, ignore_index=True)"
      ]
    },
    {
      "cell_type": "code",
      "execution_count": null,
      "metadata": {
        "colab": {
          "base_uri": "https://localhost:8080/",
          "height": 284
        },
        "id": "zZPdNN995xxB",
        "outputId": "0036f2fd-ce8b-4174-e279-3974ba53cefe"
      },
      "outputs": [
        {
          "data": {
            "image/png": "[encoded data removed]",
            "text/plain": [
              "<Figure size 1000x1000 with 3 Axes>"
            ]
          },
          "metadata": {},
          "output_type": "display_data"
        }
      ],
      "source": [
        "#@title [RUN] Visualisation\n",
        "\n",
        "tikz = False\n",
        "fig = plt.figure(figsize=(10, 10))\n",
        "index = 143\n",
        "\n",
        "# Persistence image (ground truth to predict)\n",
        "\n",
        "pi_predicted = model_pointnet(dataset[index][0]).detach().numpy().reshape(pimgr.resolution)\n",
        "pi_groundtruth = dataset[index][1].detach().numpy().reshape(pimgr.resolution)\n",
        "pi_predicted_0 = model_pointnet(dataset[0][0]).detach().numpy().reshape(pimgr.resolution)\n",
        "\n",
        "if tikz:\n",
        "    ax = fig.add_subplot(311)\n",
        "    pimgr.plot_image(pi_groundtruth, ax)\n",
        "    ax = fig.add_subplot(312)\n",
        "    pimgr.plot_image(pi_predicted, ax)\n",
        "    ax = fig.add_subplot(313)\n",
        "    pimgr.plot_image(pi_predicted_0, ax)\n",
        "\n",
        "    tikzplotlib_fix_ncols(fig)\n",
        "    tikzplotlib.save('/content/drive/MyDrive/pointnet.tex')\n",
        "else:\n",
        "    ax = fig.add_subplot(131)\n",
        "    pimgr.plot_image(pi_groundtruth, ax)\n",
        "    ax = fig.add_subplot(132)\n",
        "    pimgr.plot_image(pi_predicted, ax)\n",
        "    ax = fig.add_subplot(133)\n",
        "    pimgr.plot_image(pi_predicted_0, ax)\n",
        "    plt.show()"
      ]
    },
    {
      "cell_type": "markdown",
      "metadata": {
        "id": "l13A7--kdle9"
      },
      "source": [
        "# Step 7: Invariance unit tests"
      ]
    },
    {
      "cell_type": "code",
      "execution_count": null,
      "metadata": {
        "id": "ZzDA6pxAdmvF"
      },
      "outputs": [],
      "source": [
        "def permute_points(data, perm):    \n",
        "    return data[perm]\n",
        "\n",
        "def permutation_invariance_unit_test(module, dataloader):\n",
        "    it = iter(dataloader)\n",
        "    data_x = next(it)[0].squeeze()\n",
        "\n",
        "    # Forward pass on original example\n",
        "    out_1 = module(data_x)\n",
        "\n",
        "    # Create random permutation\n",
        "    perm = torch.randperm(nb_points)\n",
        "    data_x = permute_points(data_x, perm)\n",
        "\n",
        "    # Forward pass on permuted example\n",
        "    out_2 = module(data_x)\n",
        "\n",
        "    # Check whether output varies after applying transformations\n",
        "    return torch.allclose(out_1, out_2, atol=1e-04)\n",
        "\n",
        "\n",
        "def random_orthogonal_matrix(dim=3):\n",
        "    Q = torch.tensor(ortho_group.rvs(dim=dim)).float()\n",
        "    return Q\n",
        "\n",
        "\n",
        "def rot_trans_invariance_unit_test(module, dataloader):\n",
        "    module.eval()\n",
        "\n",
        "    it = iter(dataloader)\n",
        "    data_x = next(it)[0].squeeze()\n",
        "\n",
        "    out_1 = module(data_x)   \n",
        "\n",
        "    Q = random_orthogonal_matrix(dim=3)\n",
        "    t = torch.rand(3)\n",
        "    data_x = torch.matmul(data_x, Q) + t\n",
        "\n",
        "    out_2 = module(data_x)\n",
        "\n",
        "    return torch.allclose(out_1, out_2, atol=1e-03)"
      ]
    },
    {
      "cell_type": "code",
      "execution_count": null,
      "metadata": {
        "colab": {
          "base_uri": "https://localhost:8080/"
        },
        "id": "OF9dyPrSd0sr",
        "outputId": "cc269ca3-0908-443c-ddc0-9a73725c58a8"
      },
      "outputs": [
        {
          "name": "stdout",
          "output_type": "stream",
          "text": [
            "Is MLP permutation invariant? --> True!\n",
            "Is MLP rotation invariant? --> False!\n",
            "\n",
            "Is PointInvariantModel permutation invariant? --> False!\n",
            "Is PointInvariantModel rotation invariant? --> True!\n",
            "\n",
            "Is ConvMLP permutation invariant? --> True!\n",
            "Is ConvMLP rotation invariant? --> False!\n",
            "\n",
            "Is Conv_PointInvariantModel permutation invariant? --> False!\n",
            "Is Conv_PointInvariantModel rotation invariant? --> True!\n",
            "\n",
            "Is PointNetfeat permutation invariant? --> True!\n",
            "Is PointNetfeat rotation invariant? --> False!\n",
            "\n"
          ]
        }
      ],
      "source": [
        "dataloader = DataLoader(train_dataset, shuffle=True)\n",
        "\n",
        "model = MLP(input_dim=3, output_dim=1024, hidden_dim=64, num_layers=2)\n",
        "# Permutation and Rotation invariance unit test \n",
        "print(f\"Is {type(model).__name__} permutation invariant? --> {permutation_invariance_unit_test(model, dataloader)}!\")\n",
        "print(f\"Is {type(model).__name__} rotation invariant? --> {rot_trans_invariance_unit_test(model, dataloader)}!\\n\")\n",
        "\n",
        "model = PointInvariantModel(input_dim=nb_points, output_dim=1024, hidden_dim=64, num_layers=2)\n",
        "# Permutation and Rotation invariance unit test \n",
        "print(f\"Is {type(model).__name__} permutation invariant? --> {permutation_invariance_unit_test(model, dataloader)}!\")\n",
        "print(f\"Is {type(model).__name__} rotation invariant? --> {rot_trans_invariance_unit_test(model, dataloader)}!\\n\")\n",
        "\n",
        "model = ConvMLP()\n",
        "# Permutation and Rotation invariance unit test \n",
        "print(f\"Is {type(model).__name__} permutation invariant? --> {permutation_invariance_unit_test(model, dataloader)}!\")\n",
        "print(f\"Is {type(model).__name__} rotation invariant? --> {rot_trans_invariance_unit_test(model, dataloader)}!\\n\")\n",
        "\n",
        "model = Conv_PointInvariantModel()\n",
        "# Permutation and Rotation invariance unit test \n",
        "print(f\"Is {type(model).__name__} permutation invariant? --> {permutation_invariance_unit_test(model, dataloader)}!\")\n",
        "print(f\"Is {type(model).__name__} rotation invariant? --> {rot_trans_invariance_unit_test(model, dataloader)}!\\n\")\n",
        "\n",
        "model = PointNetfeat()\n",
        "# Permutation and Rotation invariance unit test \n",
        "print(f\"Is {type(model).__name__} permutation invariant? --> {permutation_invariance_unit_test(model, dataloader)}!\")\n",
        "print(f\"Is {type(model).__name__} rotation invariant? --> {rot_trans_invariance_unit_test(model, dataloader)}!\\n\")"
      ]
    },
    {
      "cell_type": "markdown",
      "metadata": {
        "id": "YZD8bVagai3N"
      },
      "source": [
        "# Step 8: Comparaison of MAE evolution"
      ]
    },
    {
      "cell_type": "code",
      "execution_count": null,
      "metadata": {
        "colab": {
          "base_uri": "https://localhost:8080/",
          "height": 449
        },
        "id": "2yC63zEjamBr",
        "outputId": "9a76f2ec-ae53-41b3-9e17-d44d4b9582d2"
      },
      "outputs": [
        {
          "data": {
            "image/png": "[encoded data removed]",
            "text/plain": [
              "<Figure size 640x480 with 1 Axes>"
            ]
          },
          "metadata": {},
          "output_type": "display_data"
        }
      ],
      "source": [
        "#@title [RUN] Visualisation\n",
        "tikz = False\n",
        "p = sns.lineplot(x=\"Epoch\", y=\"Val MAE\", hue=\"Model\", data=DF_RESULTS)\n",
        "plt.yscale('log')\n",
        "if tikz:\n",
        "    tikzplotlib_fix_ncols(fig)\n",
        "    tikzplotlib.save('/content/drive/MyDrive/graph_mae_all.tex')\n",
        "else:\n",
        "    plt.show()"
      ]
    },
    {
      "cell_type": "markdown",
      "metadata": {
        "id": "Vbeo7XbZYkXp"
      },
      "source": [
        "# Step 9: Time to compute persistence image"
      ]
    },
    {
      "cell_type": "code",
      "execution_count": null,
      "metadata": {
        "id": "jkxToDWRnfSU"
      },
      "outputs": [],
      "source": [
        "averaging_number = 100\n",
        "\n",
        "class MyShapeNetTest(Dataset):\n",
        "    def __init__(self, transform = None):\n",
        "        super(MyShapeNetTest, self).__init__()\n",
        "        \n",
        "        path = './shapenet'\n",
        "        dataset = ShapeNet(path, transform = transform)\n",
        "\n",
        "        self.data = [torch.Tensor(dataset[i].pos) for i in range(averaging_number)]\n",
        "        random.shuffle(self.data)\n",
        "\n",
        "    def len(self):\n",
        "        return len(self.data)\n",
        "\n",
        "    def get(self, index):\n",
        "        return self.data[index]"
      ]
    },
    {
      "cell_type": "code",
      "execution_count": null,
      "metadata": {
        "colab": {
          "background_save": true
        },
        "id": "PMAj_fbzWDBd"
      },
      "outputs": [],
      "source": [
        "nbs = [(i+1) * 20 for i in range(50)]\n",
        "times = []\n",
        "for nb_pts in nbs:\n",
        "    preprocess = T.Compose([Select_Points(nb_pts), Normalisation()]) # Select_Points Reduce number of points in each point cloud to reduce computations. Normalisation of the points\n",
        "    dataset_test = MyShapeNetTest(transform = preprocess)\n",
        "    t = time.time()\n",
        "    for i in range(averaging_number):\n",
        "        pimgr.transform(rips.fit_transform(dataset_test[i])[1])\n",
        "    t = (time.time() - t)/averaging_number\n",
        "    times.append(t)"
      ]
    },
    {
      "cell_type": "code",
      "execution_count": null,
      "metadata": {
        "colab": {
          "background_save": true
        },
        "id": "uQtOQWlIdaFP",
        "outputId": "c3d24a6f-85d7-431c-dd67-faccac0bcef2"
      },
      "outputs": [
        {
          "name": "stderr",
          "output_type": "stream",
          "text": [
            "WARNING:matplotlib.legend:No artists with labels found to put in legend.  Note that artists whose label start with an underscore are ignored when legend() is called with no argument.\n"
          ]
        },
        {
          "data": {
            "image/png": "[encoded data removed]",
            "text/plain": [
              "<Figure size 640x480 with 1 Axes>"
            ]
          },
          "metadata": {},
          "output_type": "display_data"
        }
      ],
      "source": [
        "tikz = False\n",
        "fig, ax = plt.subplots(1, 1)\n",
        "ax.plot(nbs, times)\n",
        "plt.xlabel(\"Number of points in the point cloud\")\n",
        "plt.ylabel(\"Time (s) for computing the persistence image\")\n",
        "ax.legend(loc='best')\n",
        "if tikz:\n",
        "    tikzplotlib_fix_ncols(fig)\n",
        "    tikzplotlib.save('/content/drive/MyDrive/time_computing_pi.tex')\n",
        "else:\n",
        "    plt.show()"
      ]
    },
    {
      "cell_type": "markdown",
      "metadata": {
        "id": "PlXX2ECvIrTy"
      },
      "source": [
        "# Step 10: Experiment with a much simpler dataset to analyse the impact of the dataset choice."
      ]
    },
    {
      "cell_type": "code",
      "execution_count": null,
      "metadata": {
        "colab": {
          "background_save": true
        },
        "id": "xrHajuAbFKcu"
      },
      "outputs": [],
      "source": [
        "# Parameters\n",
        "low_x, high_x = 0, 1 \n",
        "low_y, high_y = 0, 1\n",
        "\n",
        "noise_low_x, noise_high_x = -0.01, 0.01\n",
        "noise_low_y, noise_high_y = -0.01, 0.01\n",
        "\n",
        "nb_points = 200\n",
        "nb_datasets = 1000\n",
        "noise = 0.2"
      ]
    },
    {
      "cell_type": "code",
      "execution_count": null,
      "metadata": {
        "colab": {
          "background_save": true
        },
        "id": "3LbS0sAmFTDQ"
      },
      "outputs": [],
      "source": [
        "def datasets(nb_points_ml, nb_datasets_ml, noise):\n",
        "    datasets_circle = []\n",
        "    datasets_nocircle = []\n",
        "    for i in range(nb_datasets_ml):\n",
        "        # no circle dataset\n",
        "        points_x = np.random.uniform(low_x, high_x, nb_points_ml)\n",
        "        points_y = np.random.uniform(low_y, high_y, nb_points_ml)\n",
        "        dataset = list(zip(points_x, points_y))\n",
        "        datasets_nocircle.append(dataset)\n",
        "\n",
        "        # circle dataset\n",
        "        points_x = np.random.uniform(low_x, high_x, int(nb_points_ml * noise))\n",
        "        points_y = np.random.uniform(low_y, high_y, int(nb_points_ml * noise))\n",
        "        noise_circle_x = np.random.uniform(noise_low_x, noise_high_x, int(nb_points_ml * (1 - noise)))\n",
        "        noise_circle_y = np.random.uniform(noise_low_y, noise_high_y, int(nb_points_ml * (1 - noise)))\n",
        "        theta = np.random.uniform(0, 2 * np.pi, int(nb_points_ml * (1 - noise)))\n",
        "        circle_x = [0.5 + 0.25 * np.cos(theta[i]) + noise_circle_x[i] for i in range(int(nb_points_ml * (1 - noise)))]\n",
        "        circle_y = [0.5 + 0.25 * np.sin(theta[i]) + noise_circle_y[i] for i in range(int(nb_points_ml * (1 - noise)))]\n",
        "        x = list(points_x) + circle_x\n",
        "        y = list(points_y) + circle_y\n",
        "        dataset = list(zip(x, y))\n",
        "        datasets_circle.append(dataset)\n",
        "    return datasets_circle, datasets_nocircle"
      ]
    },
    {
      "cell_type": "code",
      "execution_count": null,
      "metadata": {
        "colab": {
          "background_save": true
        },
        "id": "atQG2nEe51tE",
        "outputId": "eb83666e-dfff-49ae-ae1d-8b2e322ac011"
      },
      "outputs": [
        {
          "name": "stdout",
          "output_type": "stream",
          "text": [
            "Rips(maxdim=1, thresh=inf, coeff=2, do_cocycles=False, n_perm = None, verbose=True)\n"
          ]
        }
      ],
      "source": [
        "# TDA tools\n",
        "rips = Rips() # Rips complex for speed\n",
        "pimgr = PersistenceImager(pixel_size=0.015625, birth_range=(0.0, 0.5), pers_range=(0.0, 0.5)) # resolution 32x32 \n",
        "\n",
        "# # Parameters to fine-tune for the dataset (no canonical choice)\n",
        "pimgr.kernel_params = {'sigma': 0.01}\n",
        "\n",
        "# no need to use a weight to enhance topological features :\n",
        "# pimgr.weight = persistence\n",
        "# pimgr.weight_params = {'n': 2.0}"
      ]
    },
    {
      "cell_type": "code",
      "execution_count": null,
      "metadata": {
        "colab": {
          "background_save": true
        },
        "id": "s46RHqUcFUJA"
      },
      "outputs": [],
      "source": [
        "datasets_circle, datasets_nocircle = datasets(nb_points, nb_datasets, noise)\n",
        "dataset2 = datasets_circle + datasets_nocircle"
      ]
    },
    {
      "cell_type": "code",
      "execution_count": null,
      "metadata": {
        "colab": {
          "background_save": true
        },
        "id": "kAPU0at3GJBD"
      },
      "outputs": [],
      "source": [
        "class TopologicalDataset(Dataset):\n",
        "    def __init__(self, transform = None):\n",
        "        super(TopologicalDataset, self).__init__()\n",
        "        \n",
        "        self.data = [(torch.Tensor(dataset2[i]), torch.Tensor(pimgr.transform(rips.fit_transform(torch.Tensor(dataset2[i]))[1]).flatten())) for i in range(len(dataset2))]\n",
        "        random.shuffle(self.data)\n",
        "\n",
        "    def len(self):\n",
        "        return len(self.data)\n",
        "\n",
        "    def get(self, index):\n",
        "        return self.data[index]"
      ]
    },
    {
      "cell_type": "code",
      "execution_count": null,
      "metadata": {
        "colab": {
          "background_save": true
        },
        "id": "P1NR23G9HXb7"
      },
      "outputs": [],
      "source": [
        "top_dataset = TopologicalDataset()"
      ]
    },
    {
      "cell_type": "code",
      "execution_count": null,
      "metadata": {
        "colab": {
          "background_save": true
        },
        "id": "dyXMvp5MAB-w",
        "outputId": "0f7b8ac6-1d47-4d4a-87ee-fe42a0015325"
      },
      "outputs": [
        {
          "name": "stdout",
          "output_type": "stream",
          "text": [
            "Total number of samples: 2000.\n",
            "Created dataset splits with 1000 training, 500 validation, 500 test samples.\n"
          ]
        }
      ],
      "source": [
        "print(f\"Total number of samples: {len(top_dataset)}.\")\n",
        "\n",
        "# Split datasets (Small dataset for experiment)\n",
        "train_dataset_top = top_dataset[:1000]\n",
        "val_dataset_top = top_dataset[1000:1500]\n",
        "test_dataset_top = top_dataset[1500:2000]\n",
        "\n",
        "print(f\"Created dataset splits with {len(train_dataset_top)} training, {len(val_dataset_top)} validation, {len(test_dataset_top)} test samples.\")\n",
        "\n",
        "# Create dataloaders\n",
        "train_loader_top = DataLoader(train_dataset_top, shuffle=True)\n",
        "val_loader_top = DataLoader(val_dataset_top, shuffle=False)\n",
        "test_loader_top = DataLoader(test_dataset_top, shuffle=False)"
      ]
    },
    {
      "cell_type": "code",
      "execution_count": null,
      "metadata": {
        "colab": {
          "background_save": true
        },
        "id": "-cc0KbYzGx95",
        "outputId": "0a71bbb3-97e3-4681-b345-e09e45d9e74d"
      },
      "outputs": [
        {
          "data": {
            "image/png": "[encoded data removed]",
            "text/plain": [
              "<Figure size 640x480 with 2 Axes>"
            ]
          },
          "metadata": {},
          "output_type": "display_data"
        }
      ],
      "source": [
        "#@title [RUN] Visualisation\n",
        "\n",
        "# Pointcloud\n",
        "index = 143\n",
        "\n",
        "fig = plt.figure()\n",
        "ax = fig.add_subplot(121)\n",
        "ax.scatter(top_dataset[index][0][:, 0], top_dataset[index][0][:, 1])\n",
        "\n",
        "# Persistence image (ground truth to predict)\n",
        "ax = fig.add_subplot(122)\n",
        "pimgr.plot_image(top_dataset[index][1].reshape(pimgr.resolution), ax)\n",
        "plt.show()"
      ]
    },
    {
      "cell_type": "markdown",
      "metadata": {
        "id": "q2WA7exw4SYQ"
      },
      "source": [
        "# Model adpated to this simple dataset"
      ]
    },
    {
      "cell_type": "code",
      "execution_count": 50,
      "metadata": {
        "colab": {
          "base_uri": "https://localhost:8080/"
        },
        "id": "8RfGdHUt_Oz_",
        "outputId": "83e411d2-afff-4598-e50f-b85e755a3caf"
      },
      "outputs": [
        {
          "output_type": "stream",
          "name": "stdout",
          "text": [
            "Running experiment for MLP, training on 1000 samples for 100 epochs.\n",
            "\n",
            "Model architecture:\n",
            "MLP(\n",
            "  (input_layer): Linear(in_features=2, out_features=64, bias=True)\n",
            "  (hidden_layers): ModuleList(\n",
            "    (0): Linear(in_features=64, out_features=64, bias=True)\n",
            "  )\n",
            "  (output_layer): Linear(in_features=64, out_features=1024, bias=True)\n",
            "  (collapse): MaxPool1d(kernel_size=200, stride=200, padding=0, dilation=1, ceil_mode=False)\n",
            "  (activation): ReLU()\n",
            ")\n",
            "Total parameters: 70912\n",
            "\n",
            "Start training:\n",
            "Epoch: 005, LR: 0.001000, Loss: 0.0000005, Val MAE: 0.0000005, Test MAE: 0.0000003\n",
            "Epoch: 010, LR: 0.001000, Loss: 0.0000004, Val MAE: 0.0000005, Test MAE: 0.0000003\n",
            "Epoch: 015, LR: 0.001000, Loss: 0.0000003, Val MAE: 0.0000003, Test MAE: 0.0000003\n",
            "Epoch: 020, LR: 0.001000, Loss: 0.0000003, Val MAE: 0.0000002, Test MAE: 0.0000002\n",
            "Epoch: 025, LR: 0.001000, Loss: 0.0000002, Val MAE: 0.0000003, Test MAE: 0.0000002\n",
            "Epoch: 026, LR: 0.001000, Loss: 0.0000002, Val MAE: 0.0000003, Test MAE: 0.0000002\n",
            "\n",
            "Done! Training took 5.17 mins. Best validation MAE: 0.0000002, corresponding test MAE: 0.0000002.\n"
          ]
        },
        {
          "output_type": "stream",
          "name": "stderr",
          "text": [
            "<ipython-input-50-1dd84b78de00>:13: FutureWarning: The frame.append method is deprecated and will be removed from pandas in a future version. Use pandas.concat instead.\n",
            "  DF_RESULTS = DF_RESULTS.append(df_temp, ignore_index=True)\n"
          ]
        }
      ],
      "source": [
        "model_mlp_top = MLP(input_dim=2, output_dim=1024, hidden_dim=64, num_layers=3)\n",
        "model_name_mlp_top = type(model_mlp_top).__name__\n",
        "best_val_error, test_error, train_time, perf_per_epoch = run_experiment(\n",
        "    model_mlp_top, \n",
        "    model_name_mlp_top, \n",
        "    train_loader_top,\n",
        "    val_loader_top, \n",
        "    test_loader_top,\n",
        "    n_epochs=100\n",
        ")\n",
        "RESULTS[model_name_mlp_top] = (best_val_error, test_error, train_time)\n",
        "df_temp = pd.DataFrame(perf_per_epoch, columns=[\"Test MAE\", \"Val MAE\", \"Epoch\", \"Model\"])\n",
        "DF_RESULTS = DF_RESULTS.append(df_temp, ignore_index=True)"
      ]
    },
    {
      "cell_type": "code",
      "execution_count": 51,
      "metadata": {
        "colab": {
          "base_uri": "https://localhost:8080/",
          "height": 284
        },
        "id": "iZJKrbZE_TqM",
        "outputId": "4de1e3cc-5c72-45dc-8417-82a166a49413"
      },
      "outputs": [
        {
          "output_type": "display_data",
          "data": {
            "text/plain": [
              "<Figure size 1000x1000 with 3 Axes>"
            ],
            "image/png": "[encoded data removed]"
          },
          "metadata": {}
        }
      ],
      "source": [
        "#@title [RUN] Visualisation\n",
        "\n",
        "tikz = False\n",
        "fig = plt.figure(figsize=(10, 10))\n",
        "index = 143\n",
        "\n",
        "# Persistence image (ground truth to predict)\n",
        "\n",
        "pi_predicted = model_mlp_top(top_dataset[index][0]).detach().numpy().reshape(pimgr.resolution)\n",
        "pi_groundtruth = top_dataset[index][1].detach().numpy().reshape(pimgr.resolution)\n",
        "pi_predicted_0 = model_mlp_top(top_dataset[0][0]).detach().numpy().reshape(pimgr.resolution)\n",
        "\n",
        "if tikz:\n",
        "    ax = fig.add_subplot(311)\n",
        "    pimgr.plot_image(pi_groundtruth, ax)\n",
        "    ax = fig.add_subplot(312)\n",
        "    pimgr.plot_image(pi_predicted, ax)\n",
        "    ax = fig.add_subplot(313)\n",
        "    pimgr.plot_image(pi_predicted_0, ax)\n",
        "\n",
        "    tikzplotlib_fix_ncols(fig)\n",
        "    tikzplotlib.save('/content/drive/MyDrive/mlp_top.tex')\n",
        "else:\n",
        "    ax = fig.add_subplot(131)\n",
        "    pimgr.plot_image(pi_groundtruth, ax)\n",
        "    ax = fig.add_subplot(132)\n",
        "    pimgr.plot_image(pi_predicted, ax)\n",
        "    ax = fig.add_subplot(133)\n",
        "    pimgr.plot_image(pi_predicted_0, ax)\n",
        "    plt.show()"
      ]
    },
    {
      "cell_type": "code",
      "execution_count": 52,
      "metadata": {
        "id": "G1LUI8YzJaXH",
        "colab": {
          "base_uri": "https://localhost:8080/"
        },
        "outputId": "6f62e854-6e5e-490f-d77c-ac6888b02a17"
      },
      "outputs": [
        {
          "output_type": "stream",
          "name": "stdout",
          "text": [
            "Running experiment for PointInvariantModel, training on 1000 samples for 100 epochs.\n",
            "\n",
            "Model architecture:\n",
            "PointInvariantModel(\n",
            "  (emb_layer): DistanceLayer()\n",
            "  (input_layer): Linear(in_features=200, out_features=64, bias=True)\n",
            "  (hidden_layers): ModuleList(\n",
            "    (0): Linear(in_features=64, out_features=64, bias=True)\n",
            "  )\n",
            "  (output_layer): Linear(in_features=64, out_features=1024, bias=True)\n",
            "  (collapse): MaxPool1d(kernel_size=200, stride=200, padding=0, dilation=1, ceil_mode=False)\n",
            "  (activation): ReLU()\n",
            ")\n",
            "Total parameters: 83584\n",
            "\n",
            "Start training:\n",
            "Epoch: 005, LR: 0.001000, Loss: 0.0000002, Val MAE: 0.0000003, Test MAE: 0.0000002\n",
            "Epoch: 010, LR: 0.001000, Loss: 0.0000002, Val MAE: 0.0000004, Test MAE: 0.0000001\n",
            "Epoch: 014, LR: 0.001000, Loss: 0.0000002, Val MAE: 0.0000003, Test MAE: 0.0000001\n",
            "\n",
            "Done! Training took 3.10 mins. Best validation MAE: 0.0000001, corresponding test MAE: 0.0000001.\n"
          ]
        },
        {
          "output_type": "stream",
          "name": "stderr",
          "text": [
            "<ipython-input-52-1ec70e60c02c>:13: FutureWarning: The frame.append method is deprecated and will be removed from pandas in a future version. Use pandas.concat instead.\n",
            "  DF_RESULTS = DF_RESULTS.append(df_temp, ignore_index=True)\n"
          ]
        }
      ],
      "source": [
        "model_pim_top = PointInvariantModel(input_dim=nb_points, output_dim=1024, hidden_dim=64, num_layers=3)\n",
        "model_name_pim_top = type(model_pim_top).__name__\n",
        "best_val_error, test_error, train_time, perf_per_epoch = run_experiment(\n",
        "    model_pim_top, \n",
        "    model_name_pim_top, \n",
        "    train_loader_top,\n",
        "    val_loader_top, \n",
        "    test_loader_top,\n",
        "    n_epochs=100\n",
        ")\n",
        "RESULTS[model_name_pim_top] = (best_val_error, test_error, train_time)\n",
        "df_temp = pd.DataFrame(perf_per_epoch, columns=[\"Test MAE\", \"Val MAE\", \"Epoch\", \"Model\"])\n",
        "DF_RESULTS = DF_RESULTS.append(df_temp, ignore_index=True)"
      ]
    },
    {
      "cell_type": "code",
      "execution_count": 53,
      "metadata": {
        "id": "kfMbCdT0KqS0",
        "colab": {
          "base_uri": "https://localhost:8080/",
          "height": 284
        },
        "outputId": "d3cd573a-f059-4d52-c6a0-1a4c533062db"
      },
      "outputs": [
        {
          "output_type": "display_data",
          "data": {
            "text/plain": [
              "<Figure size 1000x1000 with 3 Axes>"
            ],
            "image/png": "[encoded data removed]"
          },
          "metadata": {}
        }
      ],
      "source": [
        "#@title [RUN] Visualisation\n",
        "\n",
        "tikz = False\n",
        "fig = plt.figure(figsize=(10, 10))\n",
        "index = 143\n",
        "\n",
        "# Persistence image (ground truth to predict)\n",
        "\n",
        "pi_predicted = model_pim_top(top_dataset[index][0]).detach().numpy().reshape(pimgr.resolution)\n",
        "pi_groundtruth = top_dataset[index][1].detach().numpy().reshape(pimgr.resolution)\n",
        "pi_predicted_0 = model_pim_top(top_dataset[0][0]).detach().numpy().reshape(pimgr.resolution)\n",
        "\n",
        "if tikz:\n",
        "    ax = fig.add_subplot(311)\n",
        "    pimgr.plot_image(pi_groundtruth, ax)\n",
        "    ax = fig.add_subplot(312)\n",
        "    pimgr.plot_image(pi_predicted, ax)\n",
        "    ax = fig.add_subplot(313)\n",
        "    pimgr.plot_image(pi_predicted_0, ax)\n",
        "\n",
        "    tikzplotlib_fix_ncols(fig)\n",
        "    tikzplotlib.save('/content/drive/MyDrive/pim_top.tex')\n",
        "else:\n",
        "    ax = fig.add_subplot(131)\n",
        "    pimgr.plot_image(pi_groundtruth, ax)\n",
        "    ax = fig.add_subplot(132)\n",
        "    pimgr.plot_image(pi_predicted, ax)\n",
        "    ax = fig.add_subplot(133)\n",
        "    pimgr.plot_image(pi_predicted_0, ax)\n",
        "    plt.show()"
      ]
    }
  ],
  "metadata": {
    "colab": {
      "provenance": [],
      "authorship_tag": "ABX9TyOcBG+VaytuECQ+r7pWaAq5"
    },
    "kernelspec": {
      "display_name": "Python 3",
      "name": "python3"
    },
    "language_info": {
      "name": "python"
    }
  },
  "nbformat": 4,
  "nbformat_minor": 0
}